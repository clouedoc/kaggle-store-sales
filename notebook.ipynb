{
 "cells": [
  {
   "cell_type": "code",
   "execution_count": 5,
   "metadata": {},
   "outputs": [
    {
     "name": "stderr",
     "output_type": "stream",
     "text": [
      "┌ Info: For silent loading, specify `verbosity=0`. \n",
      "└ @ Main /Users/clouedoc/.julia/packages/MLJModels/8Nrhi/src/loading.jl:159\n"
     ]
    },
    {
     "name": "stdout",
     "output_type": "stream",
     "text": [
      "import MLJModels ✔\n",
      "import MLJModels ✔\n",
      "import EvoTrees ✔"
     ]
    },
    {
     "name": "stderr",
     "output_type": "stream",
     "text": [
      "┌ Info: For silent loading, specify `verbosity=0`. \n",
      "└ @ Main /Users/clouedoc/.julia/packages/MLJModels/8Nrhi/src/loading.jl:159\n",
      "┌ Info: For silent loading, specify `verbosity=0`. \n",
      "└ @ Main /Users/clouedoc/.julia/packages/MLJModels/8Nrhi/src/loading.jl:159\n"
     ]
    },
    {
     "name": "stdout",
     "output_type": "stream",
     "text": [
      "\n",
      "import BetaML ✔"
     ]
    },
    {
     "name": "stderr",
     "output_type": "stream",
     "text": [
      "┌ Info: For silent loading, specify `verbosity=0`. \n",
      "└ @ Main /Users/clouedoc/.julia/packages/MLJModels/8Nrhi/src/loading.jl:159\n"
     ]
    },
    {
     "name": "stdout",
     "output_type": "stream",
     "text": [
      "\n"
     ]
    },
    {
     "name": "stderr",
     "output_type": "stream",
     "text": [
      "┌ Error: Problem fitting the machine machine(EvoTrees.EvoTreeRegressor{EvoTrees.Logistic, Float32}\n",
      "│  - nrounds: 10\n",
      "│  - lambda: 0.0\n",
      "│  - gamma: 0.0\n",
      "│  - eta: 0.1\n",
      "│  - max_depth: 5\n",
      "│  - min_weight: 1.0\n",
      "│  - rowsample: 1.0\n",
      "│  - colsample: 1.0\n",
      "│  - nbins: 32\n",
      "│  - alpha: 0.5\n",
      "│  - monotone_constraints: Dict{Int64, Int64}()\n",
      "│  - rng: Random.TaskLocalRNG()\n",
      "│  - device: cpu\n",
      "│ , …). \n",
      "└ @ MLJBase /Users/clouedoc/.julia/packages/MLJBase/uxwHr/src/machines.jl:682\n",
      "┌ Info: Running type checks... \n",
      "└ @ MLJBase /Users/clouedoc/.julia/packages/MLJBase/uxwHr/src/machines.jl:688\n"
     ]
    },
    {
     "name": "stderr",
     "output_type": "stream",
     "text": [
      "┌ Info: Type checks okay. \n",
      "└ @ MLJBase /Users/clouedoc/.julia/packages/MLJBase/uxwHr/src/machines.jl:692\n"
     ]
    },
    {
     "ename": "LoadError",
     "evalue": "LoadError: DomainError with -1.0025849:\nlog will only return a complex result if called with a complex argument. Try log(Complex(x)).\nin expression starting at /Users/clouedoc/Desktop/repositories/clouedoc/kaggle-store-sales/parsing/train.jl:53",
     "output_type": "error",
     "traceback": [
      "LoadError: DomainError with -1.0025849:\n",
      "log will only return a complex result if called with a complex argument. Try log(Complex(x)).\n",
      "in expression starting at /Users/clouedoc/Desktop/repositories/clouedoc/kaggle-store-sales/parsing/train.jl:53\n",
      "\n",
      "Stacktrace:\n",
      "  [1] throw_complex_domainerror(f::Symbol, x::Float32)\n",
      "    @ Base.Math ./math.jl:33\n",
      "  [2] _log(x::Float32, base::Val{:ℯ}, func::Symbol)\n",
      "    @ Base.Math ./special/log.jl:336\n",
      "  [3] log\n",
      "    @ ./special/log.jl:264 [inlined]\n",
      "  [4] log_fast\n",
      "    @ ./fastmath.jl:349 [inlined]\n",
      "  [5] logit\n",
      "    @ ~/.julia/packages/EvoTrees/RueBJ/src/loss.jl:134 [inlined]\n",
      "  [6] init_evotree(params::EvoTrees.EvoTreeRegressor{EvoTrees.Logistic, Float32}; x_train::SubArray{Float64, 2, Matrix{Float64}, Tuple{Vector{Int64}, Base.Slice{Base.OneTo{Int64}}}, false}, y_train::SubArray{Float64, 1, Vector{Float64}, Tuple{Vector{Int64}}, false}, w_train::Nothing, offset_train::Nothing, fnames::Nothing)\n",
      "    @ EvoTrees ~/.julia/packages/EvoTrees/RueBJ/src/fit.jl:21\n",
      "  [7] fit(model::EvoTrees.EvoTreeRegressor{EvoTrees.Logistic, Float32}, verbosity::Int64, A::NamedTuple{(:matrix, :names), Tuple{SubArray{Float64, 2, Matrix{Float64}, Tuple{Vector{Int64}, Base.Slice{Base.OneTo{Int64}}}, false}, Vector{Symbol}}}, y::SubArray{Float64, 1, Vector{Float64}, Tuple{Vector{Int64}}, false}, w::Nothing)\n",
      "    @ EvoTrees ~/.julia/packages/EvoTrees/RueBJ/src/MLJ.jl:6\n",
      "  [8] fit(model::EvoTrees.EvoTreeRegressor{EvoTrees.Logistic, Float32}, verbosity::Int64, A::NamedTuple{(:matrix, :names), Tuple{SubArray{Float64, 2, Matrix{Float64}, Tuple{Vector{Int64}, Base.Slice{Base.OneTo{Int64}}}, false}, Vector{Symbol}}}, y::SubArray{Float64, 1, Vector{Float64}, Tuple{Vector{Int64}}, false})\n",
      "    @ EvoTrees ~/.julia/packages/EvoTrees/RueBJ/src/MLJ.jl:2\n",
      "  [9] fit_only!(mach::Machine{EvoTrees.EvoTreeRegressor{EvoTrees.Logistic, Float32}, true}; rows::Vector{Int64}, verbosity::Int64, force::Bool, composite::Nothing)\n",
      "    @ MLJBase ~/.julia/packages/MLJBase/uxwHr/src/machines.jl:680\n",
      " [10] #fit!#63\n",
      "    @ ~/.julia/packages/MLJBase/uxwHr/src/machines.jl:778 [inlined]\n",
      " [11] fit_and_extract_on_fold\n",
      "    @ ~/.julia/packages/MLJBase/uxwHr/src/resampling.jl:1180 [inlined]\n",
      " [12] (::MLJBase.var\"#307#308\"{MLJBase.var\"#fit_and_extract_on_fold#330\"{Vector{Tuple{Vector{Int64}, UnitRange{Int64}}}, Nothing, Nothing, Int64, Vector{MLJBase.Aggregated}, Vector{typeof(predict)}, Bool, Bool, Vector{Float64}, DataFrame}, Machine{EvoTrees.EvoTreeRegressor{EvoTrees.Logistic, Float32}, true}, Int64})(k::Int64)\n",
      "    @ MLJBase ~/.julia/packages/MLJBase/uxwHr/src/resampling.jl:1019\n",
      " [13] _mapreduce(f::MLJBase.var\"#307#308\"{MLJBase.var\"#fit_and_extract_on_fold#330\"{Vector{Tuple{Vector{Int64}, UnitRange{Int64}}}, Nothing, Nothing, Int64, Vector{MLJBase.Aggregated}, Vector{typeof(predict)}, Bool, Bool, Vector{Float64}, DataFrame}, Machine{EvoTrees.EvoTreeRegressor{EvoTrees.Logistic, Float32}, true}, Int64}, op::typeof(vcat), #unused#::IndexLinear, A::UnitRange{Int64})\n",
      "    @ Base ./reduce.jl:435\n",
      " [14] _mapreduce_dim\n",
      "    @ ./reducedim.jl:365 [inlined]\n",
      " [15] #mapreduce#765\n",
      "    @ ./reducedim.jl:357 [inlined]\n",
      " [16] mapreduce\n",
      "    @ ./reducedim.jl:357 [inlined]\n",
      " [17] _evaluate!(func::MLJBase.var\"#fit_and_extract_on_fold#330\"{Vector{Tuple{Vector{Int64}, UnitRange{Int64}}}, Nothing, Nothing, Int64, Vector{MLJBase.Aggregated}, Vector{typeof(predict)}, Bool, Bool, Vector{Float64}, DataFrame}, mach::Machine{EvoTrees.EvoTreeRegressor{EvoTrees.Logistic, Float32}, true}, #unused#::CPU1{Nothing}, nfolds::Int64, verbosity::Int64)\n",
      "    @ MLJBase ~/.julia/packages/MLJBase/uxwHr/src/resampling.jl:1018\n",
      " [18] evaluate!(mach::Machine{EvoTrees.EvoTreeRegressor{EvoTrees.Logistic, Float32}, true}, resampling::Vector{Tuple{Vector{Int64}, UnitRange{Int64}}}, weights::Nothing, class_weights::Nothing, rows::Nothing, verbosity::Int64, repeats::Int64, measures::Vector{MLJBase.Aggregated}, operations::Vector{typeof(predict)}, acceleration::CPU1{Nothing}, force::Bool)\n",
      "    @ MLJBase ~/.julia/packages/MLJBase/uxwHr/src/resampling.jl:1221\n",
      " [19] evaluate!(::Machine{EvoTrees.EvoTreeRegressor{EvoTrees.Logistic, Float32}, true}, ::CV, ::Nothing, ::Nothing, ::Nothing, ::Int64, ::Int64, ::Vector{MLJBase.Aggregated}, ::Vector{typeof(predict)}, ::CPU1{Nothing}, ::Bool)\n",
      "    @ MLJBase ~/.julia/packages/MLJBase/uxwHr/src/resampling.jl:1292\n",
      " [20] evaluate!(mach::Machine{EvoTrees.EvoTreeRegressor{EvoTrees.Logistic, Float32}, true}; resampling::CV, measures::Nothing, measure::Vector{MLJBase.Aggregated}, weights::Nothing, class_weights::Nothing, operations::Nothing, operation::Nothing, acceleration::CPU1{Nothing}, rows::Nothing, repeats::Int64, force::Bool, check_measure::Bool, verbosity::Int64)\n",
      "    @ MLJBase ~/.julia/packages/MLJBase/uxwHr/src/resampling.jl:979\n",
      " [21] top-level scope\n",
      "    @ ~/Desktop/repositories/clouedoc/kaggle-store-sales/parsing/train.jl:53"
     ]
    }
   ],
   "source": [
    "using CSV\n",
    "using DataFrames\n",
    "using MLJ\n",
    "\n",
    "include(\"./parsing/series_common.jl\")\n",
    "include(\"./parsing/train.jl\") # training/evaluation utilities"
   ]
  },
  {
   "cell_type": "code",
   "execution_count": null,
   "metadata": {},
   "outputs": [],
   "source": [
    "#### Evaluation\n",
    "include(\"../models.jl\")\n",
    "\n",
    "train_timeseries = load_timeseries(\"./data/train.csv\")\n",
    "y, X = process_for_tree(train_timeseries, true)\n",
    "tree = EvoTreeRegressor(\n",
    "  loss=:logistic\n",
    ")\n",
    "mach = machine(tree, X, y)\n",
    "evaluate!(mach, measure=[rms, rmsle])\n"
   ]
  },
  {
   "cell_type": "code",
   "execution_count": null,
   "metadata": {},
   "outputs": [],
   "source": [
    "\n",
    "#### Prediction\n",
    "\n",
    "X_timeseries = load_timeseries(\"./data/test.csv\")\n",
    "_, X_test = process_for_tree(X_timeseries, false)\n",
    "\n",
    "y_test = predict(mach, X_test)\n",
    "\n",
    "out = X_timeseries[!, [:id]]\n",
    "out[!, :sales] = y_test\n",
    "CSV.write(\"out.csv\", out)"
   ]
  }
 ],
 "metadata": {
  "kernelspec": {
   "display_name": "Julia 1.8.5",
   "language": "julia",
   "name": "julia-1.8"
  },
  "language_info": {
   "file_extension": ".jl",
   "mimetype": "application/julia",
   "name": "julia",
   "version": "1.8.5"
  },
  "orig_nbformat": 4
 },
 "nbformat": 4,
 "nbformat_minor": 2
}
